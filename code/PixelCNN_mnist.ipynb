{
 "cells": [
  {
   "cell_type": "code",
   "execution_count": 1,
   "metadata": {},
   "outputs": [
    {
     "name": "stdout",
     "output_type": "stream",
     "text": [
      "Found GPU at: /device:GPU:0\n",
      "TensorFlow version: 1.12.0\n",
      "Eager execution: True\n"
     ]
    }
   ],
   "source": [
    "%matplotlib inline\n",
    "\n",
    "import os\n",
    "import sys\n",
    "import time\n",
    "\n",
    "import pickle as pkl\n",
    "import numpy as np\n",
    "import matplotlib.pyplot as plt\n",
    "\n",
    "import tensorflow as tf\n",
    "import tensorflow.contrib.eager as tfe\n",
    "\n",
    "tfd = tf.contrib.distributions\n",
    "layers = tf.keras.layers\n",
    "\n",
    "tf.enable_eager_execution()\n",
    "\n",
    "device_name = tf.test.gpu_device_name()\n",
    "if device_name != '/device:GPU:0':\n",
    "  raise SystemError('GPU device not found')\n",
    "print('Found GPU at: {}'.format(device_name))\n",
    "\n",
    "print(\"TensorFlow version: {}\".format(tf.VERSION))\n",
    "print(\"Eager execution: {}\".format(tf.executing_eagerly()))"
   ]
  },
  {
   "cell_type": "code",
   "execution_count": 2,
   "metadata": {},
   "outputs": [
    {
     "name": "stdout",
     "output_type": "stream",
     "text": [
      "x_train shape: (60000, 28, 28) y_train shape: (60000,)\n"
     ]
    }
   ],
   "source": [
    "import ssl\n",
    "ssl._create_default_https_context = ssl._create_unverified_context\n",
    "\n",
    "#(x_train, y_train), (x_test, y_test) = tf.keras.datasets.fashion_mnist.load_data()\n",
    "(x_train, y_train), (x_test, y_test) = tf.keras.datasets.mnist.load_data()\n",
    "x_train = x_train.astype('float32') / 255.\n",
    "x_test = x_test.astype('float32') / 255.\n",
    "print(\"x_train shape:\", x_train.shape, \"y_train shape:\", y_train.shape)"
   ]
  },
  {
   "cell_type": "code",
   "execution_count": 3,
   "metadata": {},
   "outputs": [],
   "source": [
    "X = x_train > 0.5\n",
    "X = X.astype('float32')"
   ]
  },
  {
   "cell_type": "code",
   "execution_count": 4,
   "metadata": {},
   "outputs": [
    {
     "data": {
      "image/png": "[encoded data removed]",
      "text/plain": [
       "<Figure size 720x720 with 100 Axes>"
      ]
     },
     "metadata": {
      "needs_background": "light"
     },
     "output_type": "display_data"
    }
   ],
   "source": [
    "rows, cols = 10, 10\n",
    "fig, axes = plt.subplots(figsize=(10,10), nrows=rows, ncols=cols, sharex=True, sharey=True)\n",
    "\n",
    "for i, ax_row in enumerate(axes):\n",
    "  imgs = X[np.where(y_train == i)[0][:10]]\n",
    "  for j, ax in enumerate(ax_row):\n",
    "    _ = ax.imshow(imgs[j], cmap='Greys_r')\n",
    "    ax.xaxis.set_visible(False)\n",
    "    ax.yaxis.set_visible(False)"
   ]
  },
  {
   "cell_type": "code",
   "execution_count": 5,
   "metadata": {},
   "outputs": [],
   "source": [
    "class MaskedConv2D(layers.Conv2D):\n",
    "  def __init__(self, mask_type='A', *args, **kwargs):\n",
    "    super(MaskedConv2D, self).__init__(*args, **kwargs)\n",
    "    self.mask_type = mask_type\n",
    "\n",
    "  def call(self, inputs):\n",
    "    kernel_h, kernel_w = self.kernel_size\n",
    "    center_h = kernel_h // 2\n",
    "    center_w = kernel_w // 2\n",
    "    \n",
    "    weights = self.kernel\n",
    "    mask = np.ones_like(weights.numpy(), dtype='float32')\n",
    "    #print(weights.shape, mask.shape)\n",
    "    \n",
    "    # kernel shape: [kernel_h, kernel_w, size_in, size_out]\n",
    "    mask[center_h+1:, :, :, :] = 0.0\n",
    "    mask[center_h:, center_w+1:, :, :] = 0.0\n",
    "    \n",
    "    if self.mask_type == 'A':\n",
    "      mask[center_h,center_w,:,:] = 0.0\n",
    "\n",
    "    weights = tf.math.multiply(weights, mask)\n",
    "    \n",
    "    outputs = self._convolution_op(inputs, weights)\n",
    "\n",
    "    if self.data_format == 'channels_first':\n",
    "        outputs = tf.nn.bias_add(outputs, self.bias, data_format='NCHW')\n",
    "    else:\n",
    "        outputs = tf.nn.bias_add(outputs, self.bias, data_format='NHWC')\n",
    "\n",
    "    if self.activation is not None:\n",
    "        return self.activation(outputs)\n",
    "    return outputs\n",
    "  \n",
    "layer = MaskedConv2D(\n",
    "    filters=64, kernel_size=5, mask_type='A', padding='SAME', activation=None)\n",
    "# print(layer(tf.zeros([1,28,28,1])))\n",
    "# print(layer.variables)"
   ]
  },
  {
   "cell_type": "code",
   "execution_count": 6,
   "metadata": {},
   "outputs": [],
   "source": [
    "class ResnetIdentityBlock(tf.keras.Model):\n",
    "  def __init__(self, kernel_size, filters):\n",
    "    super(ResnetIdentityBlock, self).__init__(name='')\n",
    "    filters1, filters2, filters3 = filters\n",
    "\n",
    "    self.conv2a = tf.keras.layers.Conv2D(filters1, (1, 1))\n",
    "    self.conv2b = MaskedConv2D(\n",
    "        filters=filters2, kernel_size=kernel_size, padding='same')\n",
    "    self.conv2c = tf.keras.layers.Conv2D(filters3, (1, 1))\n",
    "\n",
    "  def call(self, input_tensor):\n",
    "    x = self.conv2a(input_tensor)\n",
    "    x = tf.nn.relu(x)\n",
    "\n",
    "    x = self.conv2b(x)\n",
    "    x = tf.nn.relu(x)\n",
    "\n",
    "    x = self.conv2c(x)\n",
    "\n",
    "    x += input_tensor\n",
    "    return tf.nn.relu(x)\n",
    "\n",
    "feature_map_size_RES = 128\n",
    "filters = [feature_map_size_RES, feature_map_size_RES, 2*feature_map_size_RES]    \n",
    "block = ResnetIdentityBlock(3, filters)\n",
    "# print(block(tf.zeros([1, 2, 3, 2*feature_map_size_RES])))\n",
    "# print([x.name for x in block.variables])\n"
   ]
  },
  {
   "cell_type": "code",
   "execution_count": 7,
   "metadata": {},
   "outputs": [],
   "source": [
    "class PixelCNN(tf.keras.Model):\n",
    "  def __init__(self, num_layers=15, h_residual=128, h_maskB=32):\n",
    "    super(PixelCNN, self).__init__(name='')\n",
    "    self.num_layers = num_layers\n",
    "    \n",
    "    # mask A, 7*7\n",
    "    self.first_layer = MaskedConv2D(\n",
    "        filters=2*h_residual, kernel_size=7, mask_type='A', padding='SAME', activation=None)\n",
    "    \n",
    "    # mask B, 3*3, num_layers=15, h_residual\n",
    "    filters = [h_residual, h_residual, 2*h_residual]    \n",
    "    self.res_block = ResnetIdentityBlock(3, filters)\n",
    "    \n",
    "    # mask B, 1*1, num_layers=2, h_maskB, Relu\n",
    "    self.conv_1by1_a = tf.keras.layers.Conv2D(h_maskB, (1, 1))\n",
    "    self.conv_1by1_b = tf.keras.layers.Conv2D(1, (1, 1))\n",
    "    \n",
    "  def call(self, input_tensor):\n",
    "    x = self.first_layer(input_tensor)\n",
    "    \n",
    "    for i in range(self.num_layers):\n",
    "      x = self.res_block(x)\n",
    "      \n",
    "    x = self.conv_1by1_a(x)\n",
    "    x = tf.nn.relu(x)\n",
    "    x = self.conv_1by1_b(x)\n",
    "    #x = tf.nn.sigmoid(x)\n",
    "    \n",
    "    return x\n",
    "\n",
    "pixel_cnn = PixelCNN(num_layers=15, h_residual=128, h_maskB=32)\n",
    "output_img = pixel_cnn(tf.zeros([1,28,28,1]))\n",
    "#print(pixel_cnn(tf.zeros([1,28,28,1])))\n",
    "#print(pixel_cnn.variables)"
   ]
  },
  {
   "cell_type": "code",
   "execution_count": 8,
   "metadata": {},
   "outputs": [
    {
     "data": {
      "image/png": "[encoded data removed]",
      "text/plain": [
       "<Figure size 432x288 with 1 Axes>"
      ]
     },
     "metadata": {
      "needs_background": "light"
     },
     "output_type": "display_data"
    },
    {
     "data": {
      "image/png": "[encoded data removed]",
      "text/plain": [
       "<Figure size 432x288 with 1 Axes>"
      ]
     },
     "metadata": {
      "needs_background": "light"
     },
     "output_type": "display_data"
    }
   ],
   "source": [
    "sample = X[0]\n",
    "sample_in = sample[np.newaxis, :, :, np.newaxis]\n",
    "\n",
    "output_img = pixel_cnn(tf.constant(sample_in))\n",
    "plt.imshow(np.squeeze(sample), cmap='Greys_r'); plt.show()\n",
    "plt.imshow(np.squeeze(output_img), cmap='Greys_r'); plt.show()"
   ]
  },
  {
   "cell_type": "code",
   "execution_count": null,
   "metadata": {},
   "outputs": [],
   "source": []
  },
  {
   "cell_type": "code",
   "execution_count": 9,
   "metadata": {},
   "outputs": [
    {
     "name": "stdout",
     "output_type": "stream",
     "text": [
      "Loss test: 0.7610191106796265\n"
     ]
    }
   ],
   "source": [
    "def loss(model, x, y):\n",
    "  y_ = model(x)\n",
    "  return tf.losses.sigmoid_cross_entropy(multi_class_labels=y, logits=y_)\n",
    "\n",
    "sample_img = X[0:3]\n",
    "sample_img = sample_img[:, :, :, np.newaxis]\n",
    "l = loss(pixel_cnn, sample_img, sample_img)\n",
    "print(\"Loss test: {}\".format(l))"
   ]
  },
  {
   "cell_type": "code",
   "execution_count": 10,
   "metadata": {},
   "outputs": [],
   "source": [
    "def grad(model, inputs, targets):\n",
    "  with tf.GradientTape() as tape:\n",
    "    loss_value = loss(model, inputs, targets)\n",
    "  return loss_value, tape.gradient(loss_value, model.trainable_variables)"
   ]
  },
  {
   "cell_type": "code",
   "execution_count": 11,
   "metadata": {},
   "outputs": [
    {
     "name": "stdout",
     "output_type": "stream",
     "text": [
      "Step: 0, Initial Loss: 0.7610191106796265\n"
     ]
    }
   ],
   "source": [
    "global_step = tf.Variable(0)\n",
    "\n",
    "loss_value, grads = grad(pixel_cnn, sample_img, sample_img)\n",
    "\n",
    "print(\"Step: {}, Initial Loss: {}\".format(global_step.numpy(),\n",
    "                                          loss_value.numpy()))\n"
   ]
  },
  {
   "cell_type": "code",
   "execution_count": 12,
   "metadata": {},
   "outputs": [],
   "source": [
    "batch_size = 16\n",
    "dataset = tf.data.Dataset.from_tensor_slices(X).shuffle(60000).batch(batch_size)"
   ]
  },
  {
   "cell_type": "code",
   "execution_count": 13,
   "metadata": {},
   "outputs": [],
   "source": [
    "def generate(num_samples):\n",
    "    samples = np.zeros((num_samples, 28, 28, 1), dtype='float32')\n",
    "\n",
    "    for i in range(28):\n",
    "      for j in range(28):\n",
    "        for k in range(1):\n",
    "          next_sample_logit = pixel_cnn(samples)\n",
    "          next_sample_sgmd = tf.nn.sigmoid(next_sample_logit)\n",
    "          next_sample_prob = np.random.binomial(1, next_sample_sgmd)\n",
    "          samples[:, i, j, k] = next_sample_prob[:, i, j, k]\n",
    "\n",
    "    return samples\n",
    "\n",
    "def generate_with_samples(samples_in):\n",
    "    samples_out = pixel_cnn(samples_in)\n",
    "    return samples_out"
   ]
  },
  {
   "cell_type": "code",
   "execution_count": 14,
   "metadata": {},
   "outputs": [],
   "source": [
    "# ref: https://gist.github.com/soply/f3eec2e79c165e39c9d540e916142ae1\n",
    "\n",
    "def show_images(images, cols = 1, titles = None):\n",
    "    \"\"\"Display a list of images in a single figure with matplotlib.\n",
    "    \n",
    "    Parameters\n",
    "    ---------\n",
    "    images: List of np.arrays compatible with plt.imshow.\n",
    "    \n",
    "    cols (Default = 1): Number of columns in figure (number of rows is \n",
    "                        set to np.ceil(n_images/float(cols))).\n",
    "    \n",
    "    titles: List of titles corresponding to each image. Must have\n",
    "            the same length as titles.\n",
    "    \"\"\"\n",
    "    assert((titles is None)or (len(images) == len(titles)))\n",
    "    n_images = len(images)\n",
    "    if titles is None: titles = ['Image (%d)' % i for i in range(1,n_images + 1)]\n",
    "    fig = plt.figure(figsize=(10,1))\n",
    "    for n, (image, title) in enumerate(zip(images, titles)):\n",
    "        a = fig.add_subplot(cols, np.ceil(n_images/float(cols)), n + 1)\n",
    "        if image.ndim == 2:\n",
    "            plt.gray()\n",
    "        plt.imshow(image)\n",
    "        #a.set_title(title)\n",
    "        a.set_axis_off()\n",
    "    #fig.set_size_inches(np.array(fig.get_size_inches()) * n_images)\n",
    "    plt.show()"
   ]
  },
  {
   "cell_type": "code",
   "execution_count": 15,
   "metadata": {
    "scrolled": false
   },
   "outputs": [
    {
     "name": "stdout",
     "output_type": "stream",
     "text": [
      "Epoch 000 Iter 000: Loss: 0.7493895888\n"
     ]
    },
    {
     "data": {
      "image/png": "[encoded data removed]",
      "text/plain": [
       "<Figure size 720x72 with 10 Axes>"
      ]
     },
     "metadata": {
      "needs_background": "light"
     },
     "output_type": "display_data"
    },
    {
     "name": "stdout",
     "output_type": "stream",
     "text": [
      "Epoch 000 Iter 500: Loss: 0.2415626636\n"
     ]
    },
    {
     "data": {
      "image/png": "[encoded data removed]",
      "text/plain": [
       "<Figure size 720x72 with 10 Axes>"
      ]
     },
     "metadata": {
      "needs_background": "light"
     },
     "output_type": "display_data"
    },
    {
     "name": "stdout",
     "output_type": "stream",
     "text": [
      "Epoch 000 Iter 1000: Loss: 0.1831634248\n"
     ]
    },
    {
     "data": {
      "image/png": "[encoded data removed]",
      "text/plain": [
       "<Figure size 720x72 with 10 Axes>"
      ]
     },
     "metadata": {
      "needs_background": "light"
     },
     "output_type": "display_data"
    },
    {
     "name": "stdout",
     "output_type": "stream",
     "text": [
      "Epoch 000 Iter 1500: Loss: 0.1604237103\n"
     ]
    },
    {
     "data": {
      "image/png": "[encoded data removed]",
      "text/plain": [
       "<Figure size 720x72 with 10 Axes>"
      ]
     },
     "metadata": {
      "needs_background": "light"
     },
     "output_type": "display_data"
    },
    {
     "name": "stdout",
     "output_type": "stream",
     "text": [
      "Epoch 000 Iter 2000: Loss: 0.1470988599\n"
     ]
    },
    {
     "data": {
      "image/png": "[encoded data removed]",
      "text/plain": [
       "<Figure size 720x72 with 10 Axes>"
      ]
     },
     "metadata": {
      "needs_background": "light"
     },
     "output_type": "display_data"
    },
    {
     "name": "stdout",
     "output_type": "stream",
     "text": [
      "Epoch 000 Iter 2500: Loss: 0.1378809780\n"
     ]
    },
    {
     "data": {
      "image/png": "[encoded data removed]",
      "text/plain": [
       "<Figure size 720x72 with 10 Axes>"
      ]
     },
     "metadata": {
      "needs_background": "light"
     },
     "output_type": "display_data"
    },
    {
     "name": "stdout",
     "output_type": "stream",
     "text": [
      "Epoch 000 Iter 3000: Loss: 0.1309787385\n"
     ]
    },
    {
     "data": {
      "image/png": "[encoded data removed]",
      "text/plain": [
       "<Figure size 720x72 with 10 Axes>"
      ]
     },
     "metadata": {
      "needs_background": "light"
     },
     "output_type": "display_data"
    },
    {
     "name": "stdout",
     "output_type": "stream",
     "text": [
      "Epoch 000 Iter 3500: Loss: 0.1256273208\n"
     ]
    },
    {
     "data": {
      "image/png": "[encoded data removed]",
      "text/plain": [
       "<Figure size 720x72 with 10 Axes>"
      ]
     },
     "metadata": {
      "needs_background": "light"
     },
     "output_type": "display_data"
    },
    {
     "name": "stdout",
     "output_type": "stream",
     "text": [
      "Epoch 000: Loss: 0.1233900977\n"
     ]
    },
    {
     "data": {
      "image/png": "[encoded data removed]",
      "text/plain": [
       "<Figure size 720x72 with 10 Axes>"
      ]
     },
     "metadata": {
      "needs_background": "light"
     },
     "output_type": "display_data"
    },
    {
     "name": "stdout",
     "output_type": "stream",
     "text": [
      "Epoch 001 Iter 000: Loss: 0.0929622650\n",
      "Epoch 001 Iter 500: Loss: 0.0909022217\n",
      "Epoch 001 Iter 1000: Loss: 0.0903627876\n",
      "Epoch 001 Iter 1500: Loss: 0.0901063903\n",
      "Epoch 001 Iter 2000: Loss: 0.0898340416\n",
      "Epoch 001 Iter 2500: Loss: 0.0895182855\n",
      "Epoch 001 Iter 3000: Loss: 0.0892702844\n",
      "Epoch 001 Iter 3500: Loss: 0.0890241750\n",
      "Epoch 001: Loss: 0.0889364592\n"
     ]
    },
    {
     "data": {
      "image/png": "[encoded data removed]",
      "text/plain": [
       "<Figure size 720x72 with 10 Axes>"
      ]
     },
     "metadata": {
      "needs_background": "light"
     },
     "output_type": "display_data"
    },
    {
     "name": "stdout",
     "output_type": "stream",
     "text": [
      "Epoch 002 Iter 000: Loss: 0.0869659409\n",
      "Epoch 002 Iter 500: Loss: 0.0869647412\n",
      "Epoch 002 Iter 1000: Loss: 0.0869828810\n",
      "Epoch 002 Iter 1500: Loss: 0.0868034983\n",
      "Epoch 002 Iter 2000: Loss: 0.0866579225\n",
      "Epoch 002 Iter 2500: Loss: 0.0864721173\n",
      "Epoch 002 Iter 3000: Loss: 0.0864163265\n",
      "Epoch 002 Iter 3500: Loss: 0.0863684082\n",
      "Epoch 002: Loss: 0.0863355051\n"
     ]
    },
    {
     "data": {
      "image/png": "[encoded data removed]",
      "text/plain": [
       "<Figure size 720x72 with 10 Axes>"
      ]
     },
     "metadata": {
      "needs_background": "light"
     },
     "output_type": "display_data"
    },
    {
     "name": "stdout",
     "output_type": "stream",
     "text": [
      "Epoch 003 Iter 000: Loss: 0.0824339911\n",
      "Epoch 003 Iter 500: Loss: 0.0853752104\n",
      "Epoch 003 Iter 1000: Loss: 0.0852507420\n",
      "Epoch 003 Iter 1500: Loss: 0.0851750658\n",
      "Epoch 003 Iter 2000: Loss: 0.0851398315\n",
      "Epoch 003 Iter 2500: Loss: 0.0850145927\n",
      "Epoch 003 Iter 3000: Loss: 0.0849137951\n",
      "Epoch 003 Iter 3500: Loss: 0.0849156285\n",
      "Epoch 003: Loss: 0.0849107992\n"
     ]
    },
    {
     "data": {
      "image/png": "[encoded data removed]",
      "text/plain": [
       "<Figure size 720x72 with 10 Axes>"
      ]
     },
     "metadata": {
      "needs_background": "light"
     },
     "output_type": "display_data"
    },
    {
     "name": "stdout",
     "output_type": "stream",
     "text": [
      "Epoch 004 Iter 000: Loss: 0.0860427618\n",
      "Epoch 004 Iter 500: Loss: 0.0839330396\n",
      "Epoch 004 Iter 1000: Loss: 0.0839530593\n",
      "Epoch 004 Iter 1500: Loss: 0.0839086684\n",
      "Epoch 004 Iter 2000: Loss: 0.0839355796\n",
      "Epoch 004 Iter 2500: Loss: 0.0839626760\n",
      "Epoch 004 Iter 3000: Loss: 0.0839575630\n",
      "Epoch 004 Iter 3500: Loss: 0.0839325632\n",
      "Epoch 004: Loss: 0.0839556401\n"
     ]
    },
    {
     "data": {
      "image/png": "[encoded data removed]",
      "text/plain": [
       "<Figure size 720x72 with 10 Axes>"
      ]
     },
     "metadata": {
      "needs_background": "light"
     },
     "output_type": "display_data"
    },
    {
     "name": "stdout",
     "output_type": "stream",
     "text": [
      "Epoch 005 Iter 000: Loss: 0.0816609338\n",
      "Epoch 005 Iter 500: Loss: 0.0836229759\n",
      "Epoch 005 Iter 1000: Loss: 0.0832934403\n",
      "Epoch 005 Iter 1500: Loss: 0.0833955268\n",
      "Epoch 005 Iter 2000: Loss: 0.0833289092\n",
      "Epoch 005 Iter 2500: Loss: 0.0833567362\n",
      "Epoch 005 Iter 3000: Loss: 0.0833105088\n",
      "Epoch 005 Iter 3500: Loss: 0.0832644010\n",
      "Epoch 005: Loss: 0.0832278737\n"
     ]
    },
    {
     "data": {
      "image/png": "[encoded data removed]",
      "text/plain": [
       "<Figure size 720x72 with 10 Axes>"
      ]
     },
     "metadata": {
      "needs_background": "light"
     },
     "output_type": "display_data"
    },
    {
     "name": "stdout",
     "output_type": "stream",
     "text": [
      "Epoch 006 Iter 000: Loss: 0.0867513716\n",
      "Epoch 006 Iter 500: Loss: 0.0828490194\n",
      "Epoch 006 Iter 1000: Loss: 0.0829216454\n",
      "Epoch 006 Iter 1500: Loss: 0.0827826829\n",
      "Epoch 006 Iter 2000: Loss: 0.0826715826\n",
      "Epoch 006 Iter 2500: Loss: 0.0827035058\n",
      "Epoch 006 Iter 3000: Loss: 0.0826807616\n",
      "Epoch 006 Iter 3500: Loss: 0.0826276319\n",
      "Epoch 006: Loss: 0.0826426302\n"
     ]
    },
    {
     "data": {
      "image/png": "[encoded data removed]",
      "text/plain": [
       "<Figure size 720x72 with 10 Axes>"
      ]
     },
     "metadata": {
      "needs_background": "light"
     },
     "output_type": "display_data"
    },
    {
     "name": "stdout",
     "output_type": "stream",
     "text": [
      "Epoch 007 Iter 000: Loss: 0.0775771737\n",
      "Epoch 007 Iter 500: Loss: 0.0821683553\n",
      "Epoch 007 Iter 1000: Loss: 0.0820467276\n",
      "Epoch 007 Iter 1500: Loss: 0.0821184741\n",
      "Epoch 007 Iter 2000: Loss: 0.0820783730\n",
      "Epoch 007 Iter 2500: Loss: 0.0821143375\n",
      "Epoch 007 Iter 3000: Loss: 0.0821644653\n",
      "Epoch 007 Iter 3500: Loss: 0.0821290979\n",
      "Epoch 007: Loss: 0.0821283274\n"
     ]
    },
    {
     "data": {
      "image/png": "[encoded data removed]",
      "text/plain": [
       "<Figure size 720x72 with 10 Axes>"
      ]
     },
     "metadata": {
      "needs_background": "light"
     },
     "output_type": "display_data"
    },
    {
     "name": "stdout",
     "output_type": "stream",
     "text": [
      "Epoch 008 Iter 000: Loss: 0.0764751956\n",
      "Epoch 008 Iter 500: Loss: 0.0815270637\n",
      "Epoch 008 Iter 1000: Loss: 0.0817554616\n",
      "Epoch 008 Iter 1500: Loss: 0.0817684818\n",
      "Epoch 008 Iter 2000: Loss: 0.0817755370\n",
      "Epoch 008 Iter 2500: Loss: 0.0817486553\n",
      "Epoch 008 Iter 3000: Loss: 0.0817257732\n",
      "Epoch 008 Iter 3500: Loss: 0.0817237706\n",
      "Epoch 008: Loss: 0.0816936714\n"
     ]
    },
    {
     "data": {
      "image/png": "[encoded data removed]",
      "text/plain": [
       "<Figure size 720x72 with 10 Axes>"
      ]
     },
     "metadata": {
      "needs_background": "light"
     },
     "output_type": "display_data"
    },
    {
     "name": "stdout",
     "output_type": "stream",
     "text": [
      "Epoch 009 Iter 000: Loss: 0.0735514015\n",
      "Epoch 009 Iter 500: Loss: 0.0813298797\n",
      "Epoch 009 Iter 1000: Loss: 0.0811979286\n",
      "Epoch 009 Iter 1500: Loss: 0.0812207776\n",
      "Epoch 009 Iter 2000: Loss: 0.0812674919\n",
      "Epoch 009 Iter 2500: Loss: 0.0813073120\n",
      "Epoch 009 Iter 3000: Loss: 0.0813195475\n",
      "Epoch 009 Iter 3500: Loss: 0.0813088104\n",
      "Epoch 009: Loss: 0.0813056252\n"
     ]
    },
    {
     "data": {
      "image/png": "[encoded data removed]",
      "text/plain": [
       "<Figure size 720x72 with 10 Axes>"
      ]
     },
     "metadata": {
      "needs_background": "light"
     },
     "output_type": "display_data"
    },
    {
     "name": "stdout",
     "output_type": "stream",
     "text": [
      "Epoch 010 Iter 000: Loss: 0.0773836747\n",
      "Epoch 010 Iter 500: Loss: 0.0809307135\n",
      "Epoch 010 Iter 1000: Loss: 0.0810723600\n",
      "Epoch 010 Iter 1500: Loss: 0.0810010792\n",
      "Epoch 010 Iter 2000: Loss: 0.0810086044\n",
      "Epoch 010 Iter 2500: Loss: 0.0809487263\n",
      "Epoch 010 Iter 3000: Loss: 0.0809881620\n",
      "Epoch 010 Iter 3500: Loss: 0.0809964740\n",
      "Epoch 010: Loss: 0.0809595666\n"
     ]
    },
    {
     "data": {
      "image/png": "[encoded data removed]",
      "text/plain": [
       "<Figure size 720x72 with 10 Axes>"
      ]
     },
     "metadata": {
      "needs_background": "light"
     },
     "output_type": "display_data"
    },
    {
     "name": "stdout",
     "output_type": "stream",
     "text": [
      "Epoch 011 Iter 000: Loss: 0.0729552954\n",
      "Epoch 011 Iter 500: Loss: 0.0804855372\n",
      "Epoch 011 Iter 1000: Loss: 0.0804828454\n",
      "Epoch 011 Iter 1500: Loss: 0.0806365249\n",
      "Epoch 011 Iter 2000: Loss: 0.0806677925\n",
      "Epoch 011 Iter 2500: Loss: 0.0806692335\n",
      "Epoch 011 Iter 3000: Loss: 0.0806517936\n",
      "Epoch 011 Iter 3500: Loss: 0.0806204161\n",
      "Epoch 011: Loss: 0.0806320640\n"
     ]
    },
    {
     "data": {
      "image/png": "[encoded data removed]",
      "text/plain": [
       "<Figure size 720x72 with 10 Axes>"
      ]
     },
     "metadata": {
      "needs_background": "light"
     },
     "output_type": "display_data"
    },
    {
     "name": "stdout",
     "output_type": "stream",
     "text": [
      "Epoch 012 Iter 000: Loss: 0.0763974488\n",
      "Epoch 012 Iter 500: Loss: 0.0804935254\n",
      "Epoch 012 Iter 1000: Loss: 0.0801489723\n",
      "Epoch 012 Iter 1500: Loss: 0.0802313674\n",
      "Epoch 012 Iter 2000: Loss: 0.0802998102\n",
      "Epoch 012 Iter 2500: Loss: 0.0803206352\n",
      "Epoch 012 Iter 3000: Loss: 0.0803149021\n",
      "Epoch 012 Iter 3500: Loss: 0.0803266475\n",
      "Epoch 012: Loss: 0.0803351331\n"
     ]
    },
    {
     "data": {
      "image/png": "[encoded data removed]",
      "text/plain": [
       "<Figure size 720x72 with 10 Axes>"
      ]
     },
     "metadata": {
      "needs_background": "light"
     },
     "output_type": "display_data"
    },
    {
     "name": "stdout",
     "output_type": "stream",
     "text": [
      "Epoch 013 Iter 000: Loss: 0.0828502327\n",
      "Epoch 013 Iter 500: Loss: 0.0803138234\n",
      "Epoch 013 Iter 1000: Loss: 0.0801809147\n",
      "Epoch 013 Iter 1500: Loss: 0.0800128805\n",
      "Epoch 013 Iter 2000: Loss: 0.0799969583\n",
      "Epoch 013 Iter 2500: Loss: 0.0800366143\n",
      "Epoch 013 Iter 3000: Loss: 0.0800452293\n",
      "Epoch 013 Iter 3500: Loss: 0.0800757880\n",
      "Epoch 013: Loss: 0.0800600081\n"
     ]
    },
    {
     "data": {
      "image/png": "[encoded data removed]",
      "text/plain": [
       "<Figure size 720x72 with 10 Axes>"
      ]
     },
     "metadata": {
      "needs_background": "light"
     },
     "output_type": "display_data"
    },
    {
     "name": "stdout",
     "output_type": "stream",
     "text": [
      "Epoch 014 Iter 000: Loss: 0.0783227682\n",
      "Epoch 014 Iter 500: Loss: 0.0799525327\n",
      "Epoch 014 Iter 1000: Loss: 0.0799696515\n",
      "Epoch 014 Iter 1500: Loss: 0.0800241222\n",
      "Epoch 014 Iter 2000: Loss: 0.0800273904\n",
      "Epoch 014 Iter 2500: Loss: 0.0799493258\n",
      "Epoch 014 Iter 3000: Loss: 0.0798714703\n",
      "Epoch 014 Iter 3500: Loss: 0.0798087521\n",
      "Epoch 014: Loss: 0.0798014982\n"
     ]
    },
    {
     "data": {
      "image/png": "[encoded data removed]",
      "text/plain": [
       "<Figure size 720x72 with 10 Axes>"
      ]
     },
     "metadata": {
      "needs_background": "light"
     },
     "output_type": "display_data"
    },
    {
     "name": "stdout",
     "output_type": "stream",
     "text": [
      "Epoch 015 Iter 000: Loss: 0.0806552693\n",
      "Epoch 015 Iter 500: Loss: 0.0792770671\n",
      "Epoch 015 Iter 1000: Loss: 0.0793047715\n",
      "Epoch 015 Iter 1500: Loss: 0.0794629470\n",
      "Epoch 015 Iter 2000: Loss: 0.0795538947\n",
      "Epoch 015 Iter 2500: Loss: 0.0796029097\n",
      "Epoch 015 Iter 3000: Loss: 0.0795976548\n",
      "Epoch 015 Iter 3500: Loss: 0.0795770920\n",
      "Epoch 015: Loss: 0.0795487862\n"
     ]
    },
    {
     "data": {
      "image/png": "[encoded data removed]",
      "text/plain": [
       "<Figure size 720x72 with 10 Axes>"
      ]
     },
     "metadata": {
      "needs_background": "light"
     },
     "output_type": "display_data"
    },
    {
     "name": "stdout",
     "output_type": "stream",
     "text": [
      "Epoch 016 Iter 000: Loss: 0.0763584748\n",
      "Epoch 016 Iter 500: Loss: 0.0791056008\n",
      "Epoch 016 Iter 1000: Loss: 0.0792606244\n",
      "Epoch 016 Iter 1500: Loss: 0.0791594093\n",
      "Epoch 016 Iter 2000: Loss: 0.0792061092\n",
      "Epoch 016 Iter 2500: Loss: 0.0791990053\n",
      "Epoch 016 Iter 3000: Loss: 0.0792837479\n",
      "Epoch 016 Iter 3500: Loss: 0.0793029749\n",
      "Epoch 016: Loss: 0.0793002671\n"
     ]
    },
    {
     "data": {
      "image/png": "[encoded data removed]",
      "text/plain": [
       "<Figure size 720x72 with 10 Axes>"
      ]
     },
     "metadata": {
      "needs_background": "light"
     },
     "output_type": "display_data"
    },
    {
     "name": "stdout",
     "output_type": "stream",
     "text": [
      "Epoch 017 Iter 000: Loss: 0.0813705176\n",
      "Epoch 017 Iter 500: Loss: 0.0790334611\n",
      "Epoch 017 Iter 1000: Loss: 0.0790820235\n",
      "Epoch 017 Iter 1500: Loss: 0.0790092057\n",
      "Epoch 017 Iter 2000: Loss: 0.0790509995\n",
      "Epoch 017 Iter 2500: Loss: 0.0790212041\n",
      "Epoch 017 Iter 3000: Loss: 0.0790383688\n",
      "Epoch 017 Iter 3500: Loss: 0.0790974248\n",
      "Epoch 017: Loss: 0.0790854889\n"
     ]
    },
    {
     "data": {
      "image/png": "[encoded data removed]",
      "text/plain": [
       "<Figure size 720x72 with 10 Axes>"
      ]
     },
     "metadata": {
      "needs_background": "light"
     },
     "output_type": "display_data"
    },
    {
     "name": "stdout",
     "output_type": "stream",
     "text": [
      "Epoch 018 Iter 000: Loss: 0.0832753256\n",
      "Epoch 018 Iter 500: Loss: 0.0791489533\n",
      "Epoch 018 Iter 1000: Loss: 0.0787198559\n",
      "Epoch 018 Iter 1500: Loss: 0.0788148567\n",
      "Epoch 018 Iter 2000: Loss: 0.0788853467\n",
      "Epoch 018 Iter 2500: Loss: 0.0788781804\n",
      "Epoch 018 Iter 3000: Loss: 0.0789322162\n",
      "Epoch 018 Iter 3500: Loss: 0.0788858813\n",
      "Epoch 018: Loss: 0.0788782861\n"
     ]
    },
    {
     "data": {
      "image/png": "[encoded data removed]",
      "text/plain": [
       "<Figure size 720x72 with 10 Axes>"
      ]
     },
     "metadata": {
      "needs_background": "light"
     },
     "output_type": "display_data"
    },
    {
     "name": "stdout",
     "output_type": "stream",
     "text": [
      "Epoch 019 Iter 000: Loss: 0.0806797668\n",
      "Epoch 019 Iter 500: Loss: 0.0787080873\n",
      "Epoch 019 Iter 1000: Loss: 0.0787310323\n",
      "Epoch 019 Iter 1500: Loss: 0.0786742628\n",
      "Epoch 019 Iter 2000: Loss: 0.0786978345\n",
      "Epoch 019 Iter 2500: Loss: 0.0787130070\n",
      "Epoch 019 Iter 3000: Loss: 0.0786675083\n",
      "Epoch 019 Iter 3500: Loss: 0.0786915557\n",
      "Epoch 019: Loss: 0.0786938425\n"
     ]
    },
    {
     "data": {
      "image/png": "[encoded data removed]",
      "text/plain": [
       "<Figure size 720x72 with 10 Axes>"
      ]
     },
     "metadata": {
      "needs_background": "light"
     },
     "output_type": "display_data"
    }
   ],
   "source": [
    "# keep results for plotting\n",
    "train_loss_results = []\n",
    "\n",
    "num_epochs = 20\n",
    "learning_rate=tf.train.exponential_decay(\n",
    "            learning_rate=0.0001,\n",
    "            decay_steps=100,\n",
    "            global_step=tf.train.get_or_create_global_step(),\n",
    "            decay_rate=0.94)\n",
    "optimizer = tf.train.RMSPropOptimizer(learning_rate=learning_rate)\n",
    "\n",
    "for epoch in range(num_epochs):\n",
    "  epoch_loss_avg = tf.contrib.eager.metrics.Mean()\n",
    "\n",
    "  # Training loop \n",
    "  for i, x in enumerate(dataset):\n",
    "    # Optimize the model\n",
    "    batch_x = x[:, :, :, np.newaxis]\n",
    "    batch_y = batch_x.numpy()\n",
    "    loss_value, grads = grad(pixel_cnn, batch_x, batch_y)\n",
    "    optimizer.apply_gradients(zip(grads, pixel_cnn.variables),\n",
    "                              global_step)\n",
    "\n",
    "    # Track progress\n",
    "    epoch_loss_avg(loss_value)  # add current batch loss\n",
    "    \n",
    "    if i % 500 == 0:\n",
    "      print(\"Epoch {:03d} Iter {:03d}: Loss: {:.10f}\".format(epoch, i, epoch_loss_avg.result()))\n",
    "    \n",
    "      if epoch == 0:\n",
    "        result = generate(10)\n",
    "        show_images(np.squeeze(result))\n",
    "\n",
    "  # end epoch\n",
    "  train_loss_results.append(epoch_loss_avg.result())\n",
    "  print(\"Epoch {:03d}: Loss: {:.10f}\".format(epoch, epoch_loss_avg.result()))\n",
    "\n",
    "  result = generate(10)\n",
    "  show_images(np.squeeze(result))"
   ]
  },
  {
   "cell_type": "code",
   "execution_count": 16,
   "metadata": {},
   "outputs": [
    {
     "data": {
      "text/plain": [
       "[<matplotlib.lines.Line2D at 0x7f900478eb70>]"
      ]
     },
     "execution_count": 16,
     "metadata": {},
     "output_type": "execute_result"
    },
    {
     "data": {
      "image/png": "[encoded data removed]",
      "text/plain": [
       "<Figure size 432x288 with 1 Axes>"
      ]
     },
     "metadata": {
      "needs_background": "light"
     },
     "output_type": "display_data"
    }
   ],
   "source": [
    "plt.plot(train_loss_results)"
   ]
  },
  {
   "cell_type": "code",
   "execution_count": 17,
   "metadata": {},
   "outputs": [
    {
     "data": {
      "image/png": "[encoded data removed]",
      "text/plain": [
       "<Figure size 432x288 with 1 Axes>"
      ]
     },
     "metadata": {
      "needs_background": "light"
     },
     "output_type": "display_data"
    },
    {
     "data": {
      "image/png": "[encoded data removed]",
      "text/plain": [
       "<Figure size 432x288 with 1 Axes>"
      ]
     },
     "metadata": {
      "needs_background": "light"
     },
     "output_type": "display_data"
    }
   ],
   "source": [
    "sample_in = X[0]\n",
    "sample_in = sample_in[np.newaxis, :, :, np.newaxis]\n",
    "sample_out = generate_with_samples(sample_in)\n",
    "\n",
    "plt.imshow(np.squeeze(sample_in), cmap='Greys_r'); plt.show()\n",
    "plt.imshow(np.squeeze(sample_out), cmap='Greys_r'); plt.show()"
   ]
  },
  {
   "cell_type": "code",
   "execution_count": 18,
   "metadata": {
    "scrolled": false
   },
   "outputs": [
    {
     "data": {
      "image/png": "[encoded data removed]",
      "text/plain": [
       "<Figure size 720x720 with 100 Axes>"
      ]
     },
     "metadata": {
      "needs_background": "light"
     },
     "output_type": "display_data"
    }
   ],
   "source": [
    "result = generate(100)\n",
    "\n",
    "rows, cols = 10, 10\n",
    "fig, axes = plt.subplots(figsize=(10,10), nrows=rows, ncols=cols, sharex=True, sharey=True)\n",
    "\n",
    "for i, ax_row in enumerate(axes):\n",
    "  for j, ax in enumerate(ax_row):\n",
    "    _ = ax.imshow(np.squeeze(result[i*10+j]), cmap='Greys_r')\n",
    "    ax.xaxis.set_visible(False)\n",
    "    ax.yaxis.set_visible(False)"
   ]
  },
  {
   "cell_type": "code",
   "execution_count": 19,
   "metadata": {},
   "outputs": [
    {
     "name": "stdout",
     "output_type": "stream",
     "text": [
      "Done\n"
     ]
    }
   ],
   "source": [
    "print('Done')"
   ]
  },
  {
   "cell_type": "code",
   "execution_count": null,
   "metadata": {},
   "outputs": [],
   "source": []
  }
 ],
 "metadata": {
  "kernelspec": {
   "display_name": "Python 3",
   "language": "python",
   "name": "python3"
  },
  "language_info": {
   "codemirror_mode": {
    "name": "ipython",
    "version": 3
   },
   "file_extension": ".py",
   "mimetype": "text/x-python",
   "name": "python",
   "nbconvert_exporter": "python",
   "pygments_lexer": "ipython3",
   "version": "3.6.7"
  }
 },
 "nbformat": 4,
 "nbformat_minor": 2
}
